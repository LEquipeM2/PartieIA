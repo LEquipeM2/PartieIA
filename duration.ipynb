{
 "cells": [
  {
   "cell_type": "code",
   "execution_count": 7,
   "metadata": {},
   "outputs": [],
   "source": [
    "import os\n",
    "import wave\n",
    "import contextlib\n",
    "import numpy as np\n",
    "import pandas as pd\n",
    "\n",
    "def get_duration(audio_file):\n",
    "    with contextlib.closing(wave.open(audio_file,'r')) as f:\n",
    "        frames = f.getnframes()\n",
    "        rate = f.getframerate()\n",
    "        duration = frames / float(rate)\n",
    "    return duration\n",
    "\n",
    "def get_duration_all(directory):\n",
    "    durations = []\n",
    "    for file in os.listdir(directory):\n",
    "        if file.endswith('.wav'):\n",
    "            audio_file = os.path.join(directory, file)\n",
    "            duration = get_duration(audio_file)\n",
    "            durations.append(duration)\n",
    "    return durations\n",
    "\n",
    "def main():\n",
    "    directory1 = 'datasets-pyannote/ami/wav'\n",
    "    durations1 = get_duration_all(directory1)\n",
    "    print(\"AMI DS :\\n\")\n",
    "    print('Total duration: {:.2f} hours'.format(np.sum(durations1) / 3600))\n",
    "    print('Mean duration: {:.2f} minutes'.format(np.mean(durations1)/60))\n",
    "    print('Max duration: {:.2f} minutes'.format(np.max(durations1)/60))\n",
    "    print('Min duration: {:.2f} minutes'.format(np.min(durations1)/60))\n",
    "\n",
    "    directory2 = 'datasets-pyannote/msdwild/wav'\n",
    "    durations2 = get_duration_all(directory2)\n",
    "    print(\"\\nMSDWILD DS :\\n\")\n",
    "    print('Total duration: {:.2f} hours'.format(np.sum(durations2) / 3600))\n",
    "    print('Mean duration: {:.2f} minutes'.format(np.mean(durations2)/60))\n",
    "    print('Max duration: {:.2f} minutes'.format(np.max(durations2)/60))\n",
    "    print('Min duration: {:.2f} minutes'.format(np.min(durations2)/60))"
   ]
  },
  {
   "cell_type": "code",
   "execution_count": 8,
   "metadata": {},
   "outputs": [
    {
     "name": "stdout",
     "output_type": "stream",
     "text": [
      "AMI DS :\n",
      "\n",
      "Total duration: 10.66 hours\n",
      "Mean duration: 18.81 minutes\n",
      "Max duration: 26.82 minutes\n",
      "Min duration: 7.96 minutes\n",
      "\n",
      "MSDWILD DS :\n",
      "\n",
      "Total duration: 80.05 hours\n",
      "Mean duration: 1.53 minutes\n",
      "Max duration: 60.98 minutes\n",
      "Min duration: 0.33 minutes\n"
     ]
    }
   ],
   "source": [
    "main()"
   ]
  }
 ],
 "metadata": {
  "kernelspec": {
   "display_name": "pyannote2",
   "language": "python",
   "name": "python3"
  },
  "language_info": {
   "codemirror_mode": {
    "name": "ipython",
    "version": 3
   },
   "file_extension": ".py",
   "mimetype": "text/x-python",
   "name": "python",
   "nbconvert_exporter": "python",
   "pygments_lexer": "ipython3",
   "version": "3.10.13"
  }
 },
 "nbformat": 4,
 "nbformat_minor": 2
}
